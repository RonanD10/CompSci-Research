{
 "cells": [
  {
   "cell_type": "code",
   "execution_count": 3,
   "metadata": {},
   "outputs": [
    {
     "name": "stdout",
     "output_type": "stream",
     "text": [
      "[[], 1, 2, 3, [1, 2], [1, 3], [2, 3], [1, 2, 3]]\n"
     ]
    }
   ],
   "source": [
    "def powerset(s):\n",
    "    PS = []\n",
    "    x = len(s)\n",
    "    for i in range(1 << x):\n",
    "        PS.append([s[j] for j in range(x) if (i & (1 << j))])\n",
    "    PS = sorted(PS, key=len)\n",
    "    for i in range(1,len(s)+1):\n",
    "        PS[i] = i \n",
    "    return PS\n",
    "print(powerset([1,2,3]))"
   ]
  },
  {
   "cell_type": "code",
   "execution_count": 2,
   "metadata": {},
   "outputs": [
    {
     "ename": "NameError",
     "evalue": "name 'powerset' is not defined",
     "output_type": "error",
     "traceback": [
      "\u001b[0;31m---------------------------------------------------------------------------\u001b[0m",
      "\u001b[0;31mNameError\u001b[0m                                 Traceback (most recent call last)",
      "\u001b[0;32m<ipython-input-2-7586014fd44e>\u001b[0m in \u001b[0;36m<module>\u001b[0;34m\u001b[0m\n\u001b[1;32m     41\u001b[0m \u001b[0;34m\u001b[0m\u001b[0m\n\u001b[1;32m     42\u001b[0m \u001b[0mlist\u001b[0m \u001b[0;34m=\u001b[0m \u001b[0;34m[\u001b[0m\u001b[0;36m1\u001b[0m\u001b[0;34m,\u001b[0m\u001b[0;36m2\u001b[0m\u001b[0;34m,\u001b[0m\u001b[0;36m3\u001b[0m\u001b[0;34m]\u001b[0m\u001b[0;34m\u001b[0m\u001b[0;34m\u001b[0m\u001b[0m\n\u001b[0;32m---> 43\u001b[0;31m \u001b[0mps_hasse\u001b[0m\u001b[0;34m(\u001b[0m\u001b[0mlist\u001b[0m\u001b[0;34m,\u001b[0m\u001b[0;36m3\u001b[0m\u001b[0;34m)\u001b[0m\u001b[0;34m\u001b[0m\u001b[0;34m\u001b[0m\u001b[0m\n\u001b[0m",
      "\u001b[0;32m<ipython-input-2-7586014fd44e>\u001b[0m in \u001b[0;36mps_hasse\u001b[0;34m(list, n)\u001b[0m\n\u001b[1;32m     11\u001b[0m     \u001b[0mg\u001b[0m\u001b[0;34m.\u001b[0m\u001b[0mattr\u001b[0m\u001b[0;34m(\u001b[0m\u001b[0mratio\u001b[0m \u001b[0;34m=\u001b[0m \u001b[0;34m'fill'\u001b[0m\u001b[0;34m)\u001b[0m\u001b[0;34m\u001b[0m\u001b[0;34m\u001b[0m\u001b[0m\n\u001b[1;32m     12\u001b[0m \u001b[0;34m\u001b[0m\u001b[0m\n\u001b[0;32m---> 13\u001b[0;31m     \u001b[0mPS\u001b[0m \u001b[0;34m=\u001b[0m \u001b[0mpowerset\u001b[0m\u001b[0;34m(\u001b[0m\u001b[0mlist\u001b[0m\u001b[0;34m)\u001b[0m\u001b[0;34m\u001b[0m\u001b[0;34m\u001b[0m\u001b[0m\n\u001b[0m\u001b[1;32m     14\u001b[0m \u001b[0;34m\u001b[0m\u001b[0m\n\u001b[1;32m     15\u001b[0m     \u001b[0;31m# Define EDGES:\u001b[0m\u001b[0;34m\u001b[0m\u001b[0;34m\u001b[0m\u001b[0;34m\u001b[0m\u001b[0m\n",
      "\u001b[0;31mNameError\u001b[0m: name 'powerset' is not defined"
     ]
    }
   ],
   "source": [
    "from graphviz import Graph\n",
    "\n",
    "def ps_hasse(list, n):\n",
    "    \n",
    "    g = Graph('G', filename='Power set.gv', node_attr={'height': '0.5'})\n",
    "    g.attr(rankdir = 'BT') \n",
    "    g.attr(size = '(%d,%d)!' %(6*n, 6*n))\n",
    "    g.attr(ratio = 'fill')\n",
    "    \n",
    "    PS = powerset(list)\n",
    "    \n",
    "    # Define EDGES:\n",
    "    \n",
    "    # Join zero to atoms\n",
    "    for i in range(1,n+1):\n",
    "        g.edge('{}', '%d' %i)\n",
    "        \n",
    "    # Join atoms to height 2 elements  \n",
    "    for atom in PS[1:n+1]:\n",
    "        for SET in PS[n+1:]: \n",
    "            if len(SET) > 2:\n",
    "                break\n",
    "            if atom in SET:\n",
    "                g.edge(\"%d\" %atom, \" \".join(map(str,SET)))\n",
    "             \n",
    "    # Join remaining elements  \n",
    "    index = n+2\n",
    "    for SUB in PS[n+1:]:\n",
    "        for SET in PS[index:]:\n",
    "            if len(SET) > len(SUB) + 1:\n",
    "                break\n",
    "            if(all(x in SET for x in SUB)):\n",
    "                 g.edge(\" \".join(map(str,SUB)), \" \".join(map(str,SET)))\n",
    "        index += 1\n",
    "    \n",
    "    \n",
    "    return g\n",
    "\n",
    "# for example\n",
    "list = [1,2,3]\n",
    "ps_hasse(list,3)"
   ]
  }
 ],
 "metadata": {
  "kernelspec": {
   "display_name": "Python 3",
   "language": "python",
   "name": "python3"
  },
  "language_info": {
   "codemirror_mode": {
    "name": "ipython",
    "version": 3
   },
   "file_extension": ".py",
   "mimetype": "text/x-python",
   "name": "python",
   "nbconvert_exporter": "python",
   "pygments_lexer": "ipython3",
   "version": "3.7.6"
  }
 },
 "nbformat": 4,
 "nbformat_minor": 4
}
